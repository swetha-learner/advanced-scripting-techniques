{
 "cells": [
  {
   "cell_type": "markdown",
   "metadata": {},
   "source": [
    "# function"
   ]
  },
  {
   "cell_type": "code",
   "execution_count": null,
   "metadata": {},
   "outputs": [],
   "source": [
    "def add(a,b):                 #function with return type\n",
    "    print(\"inside function\")\n",
    "    return a+b\n",
    "ans = add(2,5)\n",
    "print(ans**2)"
   ]
  },
  {
   "cell_type": "code",
   "execution_count": null,
   "metadata": {},
   "outputs": [],
   "source": [
    "def add(a,b):                 #function without return type\n",
    "    print(\"inside function\")\n",
    "print(add(2,5))"
   ]
  },
  {
   "cell_type": "code",
   "execution_count": null,
   "metadata": {},
   "outputs": [],
   "source": [
    "def add(a,b=3):                 #function with fixed arguments\n",
    "    print(\"inside function\")\n",
    "    return a+b\n",
    "ans = add(2)\n",
    "print(ans)\n",
    "ans = add(2,5)\n",
    "print(ans)"
   ]
  },
  {
   "cell_type": "markdown",
   "metadata": {},
   "source": [
    "# local and global variables"
   ]
  },
  {
   "cell_type": "code",
   "execution_count": null,
   "metadata": {},
   "outputs": [],
   "source": [
    "sum1=0           #sum1 is global variable\n",
    "print(\"value of sum1 is {0}\".format(sum1))\n",
    "\n",
    "def add(a,b):\n",
    "    sum1=a+b                     #sum1 is local variable\n",
    "    print(\"value of sum is {0}\".format(sum1))\n",
    "    return sum1\n",
    "sum1+=2\n",
    "sum2= add(2,5)\n",
    "print(\"value of sum is {0}\".format(sum2))\n",
    "print(\"value of sum is {0}\".format(sum1))"
   ]
  },
  {
   "cell_type": "markdown",
   "metadata": {},
   "source": [
    "## *args and **kwargs"
   ]
  },
  {
   "cell_type": "code",
   "execution_count": null,
   "metadata": {},
   "outputs": [],
   "source": [
    "def add(*args):\n",
    "    print(args)\n",
    "    print(type(args))\n",
    "    print(\"sum of args is {0}\".format(sum(args)))\n",
    "    evenlist=[]\n",
    "    for i in args:\n",
    "        if i%2 == 0:\n",
    "            evenlist.append(i)\n",
    "    print(\"even num are\",evenlist)\n",
    "add(2,3)\n",
    "add(2,4,5)\n",
    "add(2,3,4,5,6)\n",
    "    \n"
   ]
  },
  {
   "cell_type": "code",
   "execution_count": null,
   "metadata": {},
   "outputs": [],
   "source": [
    "def myfunc(**kwargs):\n",
    "    print(kwargs)\n",
    "    #print(type(kwargs))\n",
    "    print(kwargs.items())\n",
    "    for i,j in kwargs.items():\n",
    "        if j=='cricket':\n",
    "            print(\"oh! you r cricket lover\")\n",
    "myfunc(name=\"swetha\", roll = 12, game= \"cricket\")\n",
    "myfunc(name=\"ranga\")\n"
   ]
  },
  {
   "cell_type": "markdown",
   "metadata": {},
   "source": [
    "## list comprehension"
   ]
  },
  {
   "cell_type": "code",
   "execution_count": null,
   "metadata": {},
   "outputs": [],
   "source": [
    "#loop method\n",
    "sqr = []\n",
    "for i in range(10):\n",
    "    sqr.append(i**2)\n",
    "print(sqr)\n",
    "\n",
    "#list comprehension\n",
    "sqr = [i**2 for i in range(10)]   # [operation for loop with iterator]\n",
    "print(sqr)"
   ]
  },
  {
   "cell_type": "code",
   "execution_count": null,
   "metadata": {},
   "outputs": [],
   "source": [
    "# operation for loop with iterator and if condition\n",
    "\n",
    "sqr = [i**2  for i in range(10) if i%2==0]\n",
    "print(sqr)"
   ]
  },
  {
   "cell_type": "code",
   "execution_count": null,
   "metadata": {},
   "outputs": [],
   "source": [
    "evens=[i for i in range(10) if i%2==0]\n",
    "print(evens)\n",
    "odds=[i for i in range(10) if 1%2!=0]\n",
    "print(odds)"
   ]
  },
  {
   "cell_type": "code",
   "execution_count": null,
   "metadata": {},
   "outputs": [],
   "source": [
    "list1 =[\"hello\",\"guys\",'gud','mornng']\n",
    "list2=[x.upper() for x in list1]\n",
    "print(list2)"
   ]
  },
  {
   "cell_type": "code",
   "execution_count": null,
   "metadata": {},
   "outputs": [],
   "source": [
    "evens=[[i,j] for i in [1,2,3] for j in [2,3,4] if i!=j ]\n",
    "print(evens)"
   ]
  },
  {
   "cell_type": "code",
   "execution_count": null,
   "metadata": {},
   "outputs": [],
   "source": [
    "evens=[(i,j) for i in [1,2,3] for j in [2,3,4] if i!=j ]\n",
    "print(evens)\n",
    "\n",
    "evens=[{i:j} for i in [1,2,3] for j in [2,3,4] if i!=j ]\n",
    "print(evens)"
   ]
  },
  {
   "cell_type": "markdown",
   "metadata": {},
   "source": [
    "## generator expressions"
   ]
  },
  {
   "cell_type": "code",
   "execution_count": null,
   "metadata": {
    "scrolled": true
   },
   "outputs": [],
   "source": [
    "from sys import getsizeof\n",
    "\n",
    "sqrlist=[i**2 for i in range(10)]\n",
    "#print(sqrlist)\n",
    "print(getsizeof(sqrlist))\n",
    "\n",
    "sqrgen=(i**2 for i in range(10))\n",
    "#print(sqrgen)\n",
    "print(getsizeof(sqrgen))\n",
    "\n",
    "for i in sqrgen:\n",
    "    if i%2==0:\n",
    "        print(i)"
   ]
  },
  {
   "cell_type": "markdown",
   "metadata": {},
   "source": [
    "## lamba, map,filter functions"
   ]
  },
  {
   "cell_type": "code",
   "execution_count": null,
   "metadata": {},
   "outputs": [],
   "source": [
    "#lambda function\n",
    "\n",
    "myfunc = lambda x,y : x+y    # function: return value\n",
    "print(myfunc(3,4))"
   ]
  },
  {
   "cell_type": "code",
   "execution_count": null,
   "metadata": {},
   "outputs": [],
   "source": [
    "out=list(map(lambda x: x**3, range(10)))\n",
    "print(out)"
   ]
  },
  {
   "cell_type": "code",
   "execution_count": null,
   "metadata": {},
   "outputs": [],
   "source": [
    "out=list(map(lambda x: x**3, [1,2,3,4]))\n",
    "print(out)"
   ]
  },
  {
   "cell_type": "code",
   "execution_count": null,
   "metadata": {},
   "outputs": [],
   "source": [
    "out=list(filter(lambda x: x%2==0, range(10))) #filter(lambda function with condition, iteration)\n",
    "print(out)"
   ]
  },
  {
   "cell_type": "code",
   "execution_count": null,
   "metadata": {},
   "outputs": [],
   "source": [
    "out=list(filter(lambda x: x%3==0, [23,24,25,26]))\n",
    "print(out)"
   ]
  },
  {
   "cell_type": "markdown",
   "metadata": {},
   "source": [
    "## file I\\O operations"
   ]
  },
  {
   "cell_type": "code",
   "execution_count": null,
   "metadata": {},
   "outputs": [],
   "source": [
    "fo = open(\"example.txt\",\"r\")\n",
    "fo.close()"
   ]
  },
  {
   "cell_type": "code",
   "execution_count": null,
   "metadata": {},
   "outputs": [],
   "source": [
    "fo = open(\"example.txt\",\"w\")\n",
    "fo.close()"
   ]
  },
  {
   "cell_type": "code",
   "execution_count": null,
   "metadata": {},
   "outputs": [],
   "source": [
    "fo = open(\"example.txt\",\"r\")\n",
    "print(fo.name)\n",
    "print(fo.mode)\n",
    "print(fo.closed)\n",
    "if not fo.closed:\n",
    "    fo.close()\n",
    "print(fo.closed)"
   ]
  },
  {
   "cell_type": "code",
   "execution_count": null,
   "metadata": {},
   "outputs": [],
   "source": [
    "fo = open(\"example1.txt\",\"w\")\n",
    "str1= \"this is my first sesion. \\n this is second session\"\n",
    "fo.write(str1)\n",
    "fo.close()"
   ]
  },
  {
   "cell_type": "code",
   "execution_count": null,
   "metadata": {},
   "outputs": [],
   "source": [
    "fo = open(\"example.txt\",\"w\")\n",
    "str1=\"this is my first sesion. \\n this is second session\"\n",
    "fo.write(str1)\n",
    "fo.close()\n"
   ]
  },
  {
   "cell_type": "code",
   "execution_count": null,
   "metadata": {},
   "outputs": [],
   "source": [
    "fo=open(\"example.txt\",\"w\")\n",
    "str1=\"this is my first sesion. \\n this is second session\"\n",
    "fo.write(str1)\n",
    "fo.seek(1)\n",
    "fo.close()"
   ]
  },
  {
   "cell_type": "code",
   "execution_count": null,
   "metadata": {},
   "outputs": [],
   "source": [
    "fo= open(\"example.txt\",\"r\")\n",
    "text=fo.read()\n",
    "print(text)\n",
    "print(type(text))\n",
    "fo.close()"
   ]
  },
  {
   "cell_type": "code",
   "execution_count": null,
   "metadata": {},
   "outputs": [],
   "source": [
    "fo=open(\"example.txt\",\"r\")\n",
    "text= fo.readlines()\n",
    "print(text)\n",
    "text = fo.readline()\n",
    "print(text)\n",
    "fo.close()"
   ]
  },
  {
   "cell_type": "code",
   "execution_count": null,
   "metadata": {},
   "outputs": [],
   "source": [
    "fo= open(\"example.txt\",\"a\")\n",
    "fo.write(\"\\n this is third wala\")\n",
    "fo.close()\n",
    "\n"
   ]
  },
  {
   "cell_type": "code",
   "execution_count": null,
   "metadata": {},
   "outputs": [],
   "source": [
    "fo = open(\"example.txt\",\"a+\")\n",
    "sam=fo.read()\n",
    "print(sam)\n",
    "fo.close()"
   ]
  },
  {
   "cell_type": "markdown",
   "metadata": {},
   "source": [
    "- text file modes ----> r,w,a,r+,w+,a+\n",
    "- binary file modes ---> rb,wb,ab, rb+,wb+,ab+"
   ]
  },
  {
   "cell_type": "markdown",
   "metadata": {},
   "source": [
    "## exception handling"
   ]
  },
  {
   "cell_type": "code",
   "execution_count": 4,
   "metadata": {},
   "outputs": [
    {
     "name": "stdout",
     "output_type": "stream",
     "text": [
      "please enter again\n",
      "4\n",
      "done with exception handling\n"
     ]
    }
   ],
   "source": [
    "try:\n",
    "    print(3+\"loce\")\n",
    "    print(2+\"2\")\n",
    "except TypeError:\n",
    "    print(\"please enter again\")\n",
    "    print(2+2)\n",
    "finally:\n",
    "    print(\"done with exception handling\")"
   ]
  },
  {
   "cell_type": "code",
   "execution_count": 7,
   "metadata": {},
   "outputs": [
    {
     "name": "stdout",
     "output_type": "stream",
     "text": [
      "helo\n",
      "something is wrong\n"
     ]
    }
   ],
   "source": [
    "try:\n",
    "    print(\"helo\")\n",
    "    print(2+\"2\")\n",
    "    fo= open(\"example.txt\",\"r\")\n",
    "    print(2/0)\n",
    "except (TypeError, FileNotFoundError , ZeroDivisionError):\n",
    "    print(\"something is wrong\")\n",
    "    "
   ]
  },
  {
   "cell_type": "code",
   "execution_count": 10,
   "metadata": {},
   "outputs": [
    {
     "name": "stdout",
     "output_type": "stream",
     "text": [
      "hello\n",
      "please enter again\n",
      "4\n",
      "True\n",
      "done with exception handling\n"
     ]
    }
   ],
   "source": [
    "try:\n",
    "    print(\"hello\")\n",
    "    print(2+\"2\")\n",
    "    fo=open(\"example.txt\",\"r\")\n",
    "    print(2/0)\n",
    "except TypeError:\n",
    "    print(\"please enter again\")\n",
    "    print(2+2)\n",
    "except FileNotFoundError:\n",
    "    fo=open(\"example.txt\",\"w\")\n",
    "    print(\"$$$$$$\")\n",
    "except ZeroDivisionError:\n",
    "    print(\"something is wrong\")\n",
    "else:\n",
    "    print(\"no type error\")\n",
    "finally:\n",
    "    fo.close()\n",
    "    print(fo.closed)\n",
    "    print(\"done with exception handling\")"
   ]
  },
  {
   "cell_type": "markdown",
   "metadata": {},
   "source": [
    "## advance scripting lab assesment"
   ]
  },
  {
   "cell_type": "markdown",
   "metadata": {},
   "source": [
    " 1. Number of import\n",
    " 2. number of lines of codes inside every function\n",
    " 3. number of functions\n",
    " 4. number of for loops and while condition\n",
    " 5. number of if else blocks"
   ]
  },
  {
   "cell_type": "code",
   "execution_count": null,
   "metadata": {},
   "outputs": [],
   "source": [
    "\n",
    "    "
   ]
  }
 ],
 "metadata": {
  "kernelspec": {
   "display_name": "Python 3",
   "language": "python",
   "name": "python3"
  },
  "language_info": {
   "codemirror_mode": {
    "name": "ipython",
    "version": 3
   },
   "file_extension": ".py",
   "mimetype": "text/x-python",
   "name": "python",
   "nbconvert_exporter": "python",
   "pygments_lexer": "ipython3",
   "version": "3.8.5"
  }
 },
 "nbformat": 4,
 "nbformat_minor": 4
}
